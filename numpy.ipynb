{
 "cells": [
  {
   "cell_type": "code",
   "execution_count": 23,
   "id": "4d58f228",
   "metadata": {},
   "outputs": [],
   "source": [
    "import numpy as np"
   ]
  },
  {
   "cell_type": "markdown",
   "id": "9074d329",
   "metadata": {},
   "source": [
    "#1D data Array\n"
   ]
  },
  {
   "cell_type": "code",
   "execution_count": 24,
   "id": "0a470d72",
   "metadata": {},
   "outputs": [],
   "source": [
    "data_1d=np.array([1,2,3,4,5])"
   ]
  },
  {
   "cell_type": "markdown",
   "id": "605d4150",
   "metadata": {},
   "source": [
    "#2D Data Array"
   ]
  },
  {
   "cell_type": "code",
   "execution_count": 25,
   "id": "a016c5fc",
   "metadata": {},
   "outputs": [],
   "source": [
    "data_2d=np.array([[1,2,3],[4,5,6]])"
   ]
  },
  {
   "cell_type": "markdown",
   "id": "27483cff",
   "metadata": {},
   "source": [
    "#Shape view "
   ]
  },
  {
   "cell_type": "code",
   "execution_count": 26,
   "id": "5726a27c",
   "metadata": {},
   "outputs": [
    {
     "name": "stdout",
     "output_type": "stream",
     "text": [
      "(5,)\n"
     ]
    }
   ],
   "source": [
    "print(data_1d.shape)"
   ]
  },
  {
   "cell_type": "code",
   "execution_count": 27,
   "id": "26540644",
   "metadata": {},
   "outputs": [
    {
     "name": "stdout",
     "output_type": "stream",
     "text": [
      "(2, 3)\n"
     ]
    }
   ],
   "source": [
    "print(data_2d.shape)"
   ]
  },
  {
   "cell_type": "markdown",
   "id": "0f2ca002",
   "metadata": {},
   "source": [
    "#Reshape Array Data ROW to COLUMN\n"
   ]
  },
  {
   "cell_type": "code",
   "execution_count": 28,
   "id": "d19a5b55",
   "metadata": {},
   "outputs": [
    {
     "data": {
      "text/plain": [
       "array([[1, 2],\n",
       "       [3, 4],\n",
       "       [5, 6]])"
      ]
     },
     "execution_count": 28,
     "metadata": {},
     "output_type": "execute_result"
    }
   ],
   "source": [
    "#data reshape\n",
    "reshape_data =data_2d.reshape(3,2)\n",
    "\n",
    "#@print\n",
    "reshape_data"
   ]
  },
  {
   "cell_type": "markdown",
   "id": "85247f4b",
   "metadata": {},
   "source": [
    "#Dimenshan view "
   ]
  },
  {
   "cell_type": "code",
   "execution_count": 29,
   "id": "e1bb938d",
   "metadata": {},
   "outputs": [
    {
     "name": "stdout",
     "output_type": "stream",
     "text": [
      "2\n"
     ]
    }
   ],
   "source": [
    "print(data_2d.ndim)\n"
   ]
  },
  {
   "cell_type": "markdown",
   "id": "420bed4a",
   "metadata": {},
   "source": [
    "# Indexing and Scilising"
   ]
  },
  {
   "cell_type": "code",
   "execution_count": 30,
   "id": "2dcc8f3c",
   "metadata": {},
   "outputs": [
    {
     "name": "stdout",
     "output_type": "stream",
     "text": [
      "2\n"
     ]
    }
   ],
   "source": [
    "print(data_1d[1])"
   ]
  },
  {
   "cell_type": "code",
   "execution_count": 31,
   "id": "c570de24",
   "metadata": {},
   "outputs": [
    {
     "name": "stdout",
     "output_type": "stream",
     "text": [
      "6\n"
     ]
    }
   ],
   "source": [
    "print(data_2d[1,2])"
   ]
  },
  {
   "cell_type": "code",
   "execution_count": 32,
   "id": "23bd84e0",
   "metadata": {},
   "outputs": [
    {
     "data": {
      "text/plain": [
       "array([1, 2, 3, 4, 5])"
      ]
     },
     "execution_count": 32,
     "metadata": {},
     "output_type": "execute_result"
    }
   ],
   "source": [
    "data_1d"
   ]
  },
  {
   "cell_type": "code",
   "execution_count": 33,
   "id": "f4040b03",
   "metadata": {},
   "outputs": [
    {
     "name": "stdout",
     "output_type": "stream",
     "text": [
      "[1 2 3]\n"
     ]
    }
   ],
   "source": [
    "#scilicing\n",
    "print(data_1d[ :3])"
   ]
  },
  {
   "cell_type": "code",
   "execution_count": 34,
   "id": "cc07a4d0",
   "metadata": {},
   "outputs": [
    {
     "data": {
      "text/plain": [
       "array([[1, 2, 3],\n",
       "       [4, 5, 6]])"
      ]
     },
     "execution_count": 34,
     "metadata": {},
     "output_type": "execute_result"
    }
   ],
   "source": [
    "data_2d"
   ]
  },
  {
   "cell_type": "code",
   "execution_count": 35,
   "id": "467515cd",
   "metadata": {},
   "outputs": [
    {
     "name": "stdout",
     "output_type": "stream",
     "text": [
      "[[2 3]\n",
      " [5 6]]\n"
     ]
    }
   ],
   "source": [
    "print(data_2d[ :,1:])"
   ]
  },
  {
   "cell_type": "code",
   "execution_count": 36,
   "id": "c1ceca1e",
   "metadata": {},
   "outputs": [],
   "source": [
    "# array operation in numpy\n",
    "\n",
    "a=np.array([1,2,3])\n",
    "b=np.array([4,5,6])"
   ]
  },
  {
   "cell_type": "code",
   "execution_count": 37,
   "id": "5f0d7a8f",
   "metadata": {},
   "outputs": [
    {
     "name": "stdout",
     "output_type": "stream",
     "text": [
      "[5 7 9]\n"
     ]
    }
   ],
   "source": [
    "addition=a+b\n",
    "print (addition)"
   ]
  },
  {
   "cell_type": "code",
   "execution_count": 38,
   "id": "835eb4f5",
   "metadata": {},
   "outputs": [
    {
     "name": "stdout",
     "output_type": "stream",
     "text": [
      "[ 4 10 18]\n"
     ]
    }
   ],
   "source": [
    "multy=a*b\n",
    "print(multy)"
   ]
  },
  {
   "cell_type": "code",
   "execution_count": 41,
   "id": "d5e2e3da",
   "metadata": {},
   "outputs": [
    {
     "data": {
      "text/plain": [
       "array([ 2.71828183,  7.3890561 , 20.08553692])"
      ]
     },
     "execution_count": 41,
     "metadata": {},
     "output_type": "execute_result"
    }
   ],
   "source": [
    "exp_a=np.exp(a)\n",
    "exp_a"
   ]
  },
  {
   "cell_type": "code",
   "execution_count": 42,
   "id": "ee3ec800",
   "metadata": {},
   "outputs": [
    {
     "data": {
      "text/plain": [
       "array([0.        , 0.69314718, 1.09861229])"
      ]
     },
     "execution_count": 42,
     "metadata": {},
     "output_type": "execute_result"
    }
   ],
   "source": [
    "log_a=np.log(a)\n",
    "log_a"
   ]
  },
  {
   "cell_type": "code",
   "execution_count": 43,
   "id": "919bf391",
   "metadata": {},
   "outputs": [
    {
     "data": {
      "text/plain": [
       "array([11, 12, 13])"
      ]
     },
     "execution_count": 43,
     "metadata": {},
     "output_type": "execute_result"
    }
   ],
   "source": [
    "#boardcasting with scalar\n",
    "a=np.array([1,2,3])\n",
    "b=10\n",
    "c=a+b\n",
    "c"
   ]
  },
  {
   "cell_type": "markdown",
   "id": "542489b7",
   "metadata": {},
   "source": [
    "arrray aggeragation"
   ]
  },
  {
   "cell_type": "code",
   "execution_count": 46,
   "id": "99a3a197",
   "metadata": {},
   "outputs": [],
   "source": [
    "data=np.array([[1,3,4],[6,7,8]])"
   ]
  },
  {
   "cell_type": "code",
   "execution_count": 49,
   "id": "33e134c1",
   "metadata": {},
   "outputs": [
    {
     "data": {
      "text/plain": [
       "np.int64(29)"
      ]
     },
     "execution_count": 49,
     "metadata": {},
     "output_type": "execute_result"
    }
   ],
   "source": [
    "tptal_sum=np.sum(data)\n",
    "tptal_sum"
   ]
  },
  {
   "cell_type": "code",
   "execution_count": null,
   "id": "204cc3ca",
   "metadata": {},
   "outputs": [],
   "source": []
  }
 ],
 "metadata": {
  "kernelspec": {
   "display_name": "Python 3",
   "language": "python",
   "name": "python3"
  },
  "language_info": {
   "codemirror_mode": {
    "name": "ipython",
    "version": 3
   },
   "file_extension": ".py",
   "mimetype": "text/x-python",
   "name": "python",
   "nbconvert_exporter": "python",
   "pygments_lexer": "ipython3",
   "version": "3.12.6"
  }
 },
 "nbformat": 4,
 "nbformat_minor": 5
}
