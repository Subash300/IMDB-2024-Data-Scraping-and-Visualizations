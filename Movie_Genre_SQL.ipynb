{
 "cells": [
  {
   "cell_type": "code",
   "execution_count": 8,
   "metadata": {},
   "outputs": [
    {
     "name": "stdout",
     "output_type": "stream",
     "text": [
      "Requirement already satisfied: mysql-connector-python in c:\\users\\subash\\appdata\\local\\programs\\python\\python312\\lib\\site-packages (9.2.0)Note: you may need to restart the kernel to use updated packages.\n",
      "\n",
      "Requirement already satisfied: pandas in c:\\users\\subash\\appdata\\local\\programs\\python\\python312\\lib\\site-packages (2.2.3)\n",
      "Requirement already satisfied: numpy>=1.26.0 in c:\\users\\subash\\appdata\\local\\programs\\python\\python312\\lib\\site-packages (from pandas) (2.2.3)\n",
      "Requirement already satisfied: python-dateutil>=2.8.2 in c:\\users\\subash\\appdata\\roaming\\python\\python312\\site-packages (from pandas) (2.9.0.post0)\n",
      "Requirement already satisfied: pytz>=2020.1 in c:\\users\\subash\\appdata\\local\\programs\\python\\python312\\lib\\site-packages (from pandas) (2025.1)\n",
      "Requirement already satisfied: tzdata>=2022.7 in c:\\users\\subash\\appdata\\local\\programs\\python\\python312\\lib\\site-packages (from pandas) (2025.1)\n",
      "Requirement already satisfied: six>=1.5 in c:\\users\\subash\\appdata\\roaming\\python\\python312\\site-packages (from python-dateutil>=2.8.2->pandas) (1.17.0)\n"
     ]
    },
    {
     "name": "stderr",
     "output_type": "stream",
     "text": [
      "\n",
      "[notice] A new release of pip is available: 24.2 -> 25.0.1\n",
      "[notice] To update, run: python.exe -m pip install --upgrade pip\n"
     ]
    }
   ],
   "source": [
    "pip install mysql-connector-python pandas"
   ]
  },
  {
   "cell_type": "code",
   "execution_count": 14,
   "metadata": {},
   "outputs": [
    {
     "name": "stdout",
     "output_type": "stream",
     "text": [
      "CSV files successfully loaded and merged.\n",
      "Connected to MySQL database.\n",
      "Data successfully inserted into MySQL.\n",
      "MySQL connection closed.\n"
     ]
    },
    {
     "name": "stderr",
     "output_type": "stream",
     "text": [
      "C:\\Users\\SUBASH\\AppData\\Local\\Temp\\ipykernel_20808\\3394019394.py:16: FutureWarning: The behavior of DataFrame concatenation with empty or all-NA entries is deprecated. In a future version, this will no longer exclude empty or all-NA columns when determining the result dtypes. To retain the old behavior, exclude the relevant entries before the concat operation.\n",
      "  final_df = pd.concat(df_list, ignore_index=True)\n"
     ]
    }
   ],
   "source": [
    "import mysql.connector  \n",
    "import pandas as pd  \n",
    "\n",
    "# List of CSV file paths\n",
    "csv_file_paths = [\n",
    "    'movies_adventure_data.csv',\n",
    "    'movies_animation_data.csv',\n",
    "    'movies_crime_data.csv',\n",
    "    'movies_fantasy_data.csv',\n",
    "    'movies_biography_data.csv'\n",
    "]\n",
    "\n",
    "# Read and merge CSV data\n",
    "try:\n",
    "    df_list = [pd.read_csv(file).fillna(0) for file in csv_file_paths]\n",
    "    final_df = pd.concat(df_list, ignore_index=True)\n",
    "    final_df[['Duration', 'Rating', 'Vote Count']] = final_df[['Duration', 'Rating', 'Vote Count']].apply(pd.to_numeric, errors='coerce').fillna(0)\n",
    "    print(\"CSV files successfully loaded and merged.\")\n",
    "except Exception as e:\n",
    "    print(f\"Error loading CSV files: {e}\")\n",
    "    exit()\n",
    "\n",
    "# Connect to MySQL\n",
    "db_config = {'host': 'localhost', 'user': 'root', 'password': 'root', 'database': 'IMBD_Movies_project1'}\n",
    "\n",
    "# Initialize variables\n",
    "connection = None\n",
    "cursor = None  \n",
    "\n",
    "try:\n",
    "    connection = mysql.connector.connect(**db_config)\n",
    "    cursor = connection.cursor()\n",
    "    print(\"Connected to MySQL database.\")\n",
    "    \n",
    "    cursor.execute(\"CREATE DATABASE IF NOT EXISTS IMBD_Movies_project1\")\n",
    "    # Ensure table exists\n",
    "    cursor.execute('''CREATE TABLE IF NOT EXISTS movie (\n",
    "                        id INT AUTO_INCREMENT PRIMARY KEY,\n",
    "                        Name VARCHAR(255),\n",
    "                        Genre VARCHAR(100),\n",
    "                        Duration INT,\n",
    "                        Rating FLOAT,\n",
    "                        `Vote Count` INT)''')\n",
    "    \n",
    "    # Insert data\n",
    "    insert_query = \"\"\"\n",
    "        INSERT INTO movie (Name, Genre, Duration, Rating, `Vote Count`)\n",
    "        VALUES (%s, %s, %s, %s, %s)\n",
    "    \"\"\"\n",
    "    cursor.executemany(insert_query, final_df[['Name', 'Genre', 'Duration', 'Rating', 'Vote Count']].values.tolist())\n",
    "    connection.commit()\n",
    "    print(\"Data successfully inserted into MySQL.\")\n",
    "\n",
    "except mysql.connector.Error as err:\n",
    "    print(f\"Database Error: {err}\")\n",
    "    if connection:\n",
    "        connection.rollback()\n",
    "\n",
    "finally:\n",
    "    if cursor:\n",
    "        cursor.close()\n",
    "    if connection:\n",
    "        connection.close()\n",
    "    print(\"MySQL connection closed.\")\n"
   ]
  },
  {
   "cell_type": "code",
   "execution_count": 16,
   "metadata": {},
   "outputs": [
    {
     "name": "stdout",
     "output_type": "stream",
     "text": [
      "Databases:\n",
      "company\n",
      "imbd_movies_project1\n",
      "information_schema\n",
      "mysql\n",
      "performance_schema\n",
      "supermarketdb\n",
      "sys\n",
      "world\n"
     ]
    }
   ],
   "source": [
    "import mysql.connector\n",
    "import pandas as pd\n",
    "\n",
    "# Connect to MySQL\n",
    "db_config = {'host': 'localhost', 'user': 'root', 'password': 'root', 'database': 'IMBD_Movies_project1'}\n",
    "connection = mysql.connector.connect(**db_config)\n",
    "cursor = connection.cursor()\n",
    "\n",
    "# Show Databases\n",
    "cursor.execute(\"SHOW DATABASES\")\n",
    "databases = cursor.fetchall()\n",
    "print(\"Databases:\")\n",
    "for db in databases:\n",
    "    print(db[0])\n",
    "\n"
   ]
  },
  {
   "cell_type": "code",
   "execution_count": 11,
   "metadata": {},
   "outputs": [],
   "source": [
    "if cursor:\n",
    "    cursor.close()\n"
   ]
  }
 ],
 "metadata": {
  "kernelspec": {
   "display_name": "Python 3",
   "language": "python",
   "name": "python3"
  },
  "language_info": {
   "codemirror_mode": {
    "name": "ipython",
    "version": 3
   },
   "file_extension": ".py",
   "mimetype": "text/x-python",
   "name": "python",
   "nbconvert_exporter": "python",
   "pygments_lexer": "ipython3",
   "version": "3.12.6"
  }
 },
 "nbformat": 4,
 "nbformat_minor": 2
}
